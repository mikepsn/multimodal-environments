{
 "metadata": {
  "name": "",
  "signature": "sha256:a8027ef3528605b6f8129cc44b2260c50b48580a7eb791ba9e529f19c805e134"
 },
 "nbformat": 3,
 "nbformat_minor": 0,
 "worksheets": [
  {
   "cells": [
    {
     "cell_type": "markdown",
     "metadata": {},
     "source": [
      "# Multimodal Human-Agent Interfaces for Virtual Environments\n",
      "\n",
      "Macquarie University\n",
      "\n",
      "November 20, 2014"
     ]
    },
    {
     "cell_type": "markdown",
     "metadata": {},
     "source": [
      "## Flexible Conversation Management using a BDI Agent Approach\n",
      "Lawrence Cavedon (RMIT)"
     ]
    },
    {
     "cell_type": "markdown",
     "metadata": {},
     "source": [
      "- Real Thing / toy / conversational agent\n",
      "- BDI Plans for conversation management\n",
      "- Conversational behaviours including plans\n",
      "- Goal/plan tree\n",
      "- Question/answers forums (answers.com, askkids.com) \n",
      "- Question/Answer pairs can be used for answering user questions or for furthering conversations\n",
      "- 23,800 fragments mined from the web\n",
      "- Pilot evaluation\n",
      "- Integration with BDI approach (provides opportunistic filler)"
     ]
    },
    {
     "cell_type": "markdown",
     "metadata": {},
     "source": [
      "## Conversational Agents for Training in Motivational Interviewing\n",
      "Richard Lebbrandt, Martin Luerssen, David Powers (Flinders University)"
     ]
    },
    {
     "cell_type": "markdown",
     "metadata": {},
     "source": [
      "- HeadX (Head based system - ECA Technologies)\n",
      "- Clevertar (Full-body animated character)\n",
      "- Assistive/supportive applications of ECA technology (health, disabilities)\n",
      "- Motivational interviewing (creating the conditions in which the client can formulate their own plans)\n",
      "- MI Theory"
     ]
    },
    {
     "cell_type": "markdown",
     "metadata": {},
     "source": [
      "## Language as an experience for integrated discourse and situation representation structures to support social interaction learning in virtual worlds for adults with learning disabilities\n",
      "\n",
      "Laurianne Sitbon and Samuel Brian (QUT)"
     ]
    },
    {
     "cell_type": "markdown",
     "metadata": {},
     "source": [
      "- Virtual learning envivronment\n",
      "- Users with learning disabilities\n",
      "- Dialog based scenarios\n",
      "- Conversation: natural (not pre-programmed) and situated (based on the physical environment)\n",
      "- Representtion for situated dialogue\n",
      "- Ability to deal with the environment\n",
      "- Episodic memory (temporally and spatially related)\n",
      "- Simulating perception\n",
      "- Support reasoning about space and time"
     ]
    },
    {
     "cell_type": "markdown",
     "metadata": {},
     "source": [
      "## Reducing Cognitive Load to improve human-agent interfaces - with a focus on the use of gesture\n",
      "\n",
      "Nadine Marcus\n",
      "\n",
      "UNSW"
     ]
    },
    {
     "cell_type": "markdown",
     "metadata": {},
     "source": [
      "- Gestures can lead to be better learning in instructional material?\n",
      "- Cognitive load theory\n",
      "- Interested in relations between Long Term Memory (LTM) and Working Memory (WM)\n",
      "- Animations and static graphics (Ayres & Pass, 2007a, 2007b)\n",
      "- Leahy and Sweller (2011)\n",
      "- Animated instructions can lead to superior learning for a human movement task when compared to equiavelent static graphics\n",
      "- This may be due to our inate ability for observational learning\n",
      "- Human movement is biolgically primary knowledge (Geary, 2007, 2012)\n",
      "- Animations are superior for learning motor tasks unless they become very long\n",
      "- Gesture studies in Mathematics\n",
      "- Gesturing: Paas and Sweller (2012) \n",
      "- Experiments: Adults learning Mandarin, children learning Persian\n",
      "- NICTA Study: explored trust in a text chat environment (measured mouse movement)\n",
      "- Gestures can facilitate knowledge by reducing load (due to primary knowledge associated with gesturing)\n",
      "- However need to ensure the gestures are not redundant"
     ]
    },
    {
     "cell_type": "markdown",
     "metadata": {},
     "source": [
      "## The Impact of a Humanoid Robot's Nonverbal Communication and lifelike bodily movement upon decision-making and trust during a cooperative human-robot task\n",
      "\n",
      "Chris Stanton and Kate Stevens\n",
      "\n",
      "MARCS Institute\n",
      "\n",
      "University of Western Sydney"
     ]
    },
    {
     "cell_type": "markdown",
     "metadata": {},
     "source": [
      "- For robots to work along side humans\n",
      "- Aldebaran Nao - little humanoid robot\n",
      "- Measure of trust - the shell game\n",
      "- Variables: task difficulty, gaze, eye tracking, breathing\n",
      "- Performance measures\n",
      "    - How often participants asked the robot for help\n",
      "    - how often participants trusted the robot's advice\n",
      "    - accuracy\n",
      "- Trust, Accuracyy, Response Time, Lifelike Movements\n",
      "- Robot pressure\n",
      "- Gender effects? (Women don't trust a \"staring\" robot)\n",
      "- Integroup bias and anthropomorphic movement\n",
      "- Proxemics (participants don't like the robot if they are placed in the computer group, participants don't like the robot if it doesn't move)\n",
      "- Future work (age, gender, posture, more natural movement, adaptive behaviour, impact of score updates)\n",
      "- Teamwork (human-robot pairs)"
     ]
    },
    {
     "cell_type": "markdown",
     "metadata": {},
     "source": [
      "## Multimodal Communication for Human-Agent Teamwork in a Virtual Environment\n",
      "\n",
      "Nader Hanna\n",
      "\n",
      "Macquarie University"
     ]
    },
    {
     "cell_type": "markdown",
     "metadata": {},
     "source": [
      "- Human-IVA teamwork (IVA = Intelligent Virtual Agent)\n",
      "- Shared Mental Model (SMM)\n",
      "- Increasing interest in heterogenous teams that include humans as an IVAs\n",
      "- Human team mate to communicate their intent and to amke and identify shared understanding. \n",
      "- A number of researchers found that performance improves if there is a SMM\n",
      "- Shared Mental Model - perception of or knowledge about a situation or process that is shared among the the team members through communication.\n",
      "- Teams that perform well hold shared mental models\n",
      "- CAST = Collaborative Agent Architecture for Simulating Teamwork (Yen et. al 2003)\n",
      "- SMMall = Shared Mental Model for all. (Fan et al. 2008, 2011) realizes the Hidden Markov Model (HMM)\n",
      "- How can agent tell another agent something?\n",
      "    - Message Passing\n",
      "    - Shared Memory, Blackboard\n",
      "    - Teaching\n",
      "- How can an IVA tell a human something?\n",
      "    - Woggles that speaks with bubbles\n",
      "    - STEVE = animated virtual characters in a training field (demonstrates to a student avatar)\n",
      "    - Gandalf - a solar expert (1996)\n",
      "    - Greta (TELECOM ParisTech)\n",
      "    - Virtual Patient (Justin) - 2007\n",
      "    - Virtual Professor (Florida State)\n",
      "- Does multimodal communication impact on taskwork and teamwork SMM between humans and IVA?\n",
      "- Do task work and teamwork SMMs impact on human-IVA team performance?\n",
      "- What are other possible factors that impact human-IVA performance?\n",
      "- Virtual Scenario 1 = human and a IVA should take turn to select a region to trap an animal for scientific research\n",
      "- Virtual Scenario 2 = human and IVA shold agree on selecting a pair of complementary tools to overcome a sequence of obstacles"
     ]
    },
    {
     "cell_type": "markdown",
     "metadata": {},
     "source": [
      "## Breakout Session"
     ]
    },
    {
     "cell_type": "markdown",
     "metadata": {},
     "source": [
      "- What is hard?\n",
      "- What is not so important?\n",
      "- What do you need/expect others to achieve/do?\n",
      "- What tools/theories exist?"
     ]
    },
    {
     "cell_type": "markdown",
     "metadata": {},
     "source": [
      "1. Aiding Humans\n",
      "2. Virtual Environments\n",
      "3. Verbal Communication\n",
      "4. Authoring, scenario, knowledge acqusition, agent learning and adaptation\n",
      "5. Tools, sharing, data, reuse"
     ]
    },
    {
     "cell_type": "markdown",
     "metadata": {},
     "source": [
      "## Intelligent Diabetes Lifestyle Coach (aka Sunny)\n",
      "\n",
      "Rafael Calvo\n",
      "\n",
      "School of Electrical and Information Engineering\n",
      "\n",
      "The University of Sydney"
     ]
    },
    {
     "cell_type": "markdown",
     "metadata": {},
     "source": [
      "- Diabetes in Australia, Treatment approaches, Sunny, Future Guy\n",
      "- No an agents/robotics/NLG\n",
      "- Future Fellowship on \"Positive Computing\"\n",
      "- Diabetes Type 2\n",
      "- Diabetes therapy involves behaviour change (exercise, diet, medication)\n",
      "- The patient needs to be motivated in the long term\n",
      "- Embodied Conversational Agents (ECA) can provide an interactive and intelligent environments to talk to people with diabetes\n",
      "- Using computer agents can increase the level of user engagement\n",
      "- ECA vs traditional health care models\n",
      "    - Occasional appointments can't maintain the user engagement\n",
      "    - Privacy and time constraints can limit interventions in clinical practice\n",
      "    - ECA is available 24/7\n",
      "- What is the impact of different design approaches on patient's motivation?\n",
      "- What design features have a significant impact on treatment outcomes (e.g. engaging digital experience, social factors)?\n",
      "- Are these the same factors that have an impact on overall wellbeing (e.g. autonomy)\n",
      "- When we design things we sometimes remove features\n",
      "- Resilience, competence, autonomy, connectedness\n",
      "- Sunny, Siri's sister (they don't get along)\n",
      "- Third party avatars\n",
      "- Google calendar, Facebook and Fitbit connection\n",
      "- So far, 125 rules have been implemented\n",
      "- Twitter: @Rafael_Calvo, Positive Computing (Book)\n",
      "- The Oxford Handbook of Affective Computing"
     ]
    },
    {
     "cell_type": "markdown",
     "metadata": {},
     "source": [
      "# Improving Healthcare through Relational Virtual Agents\n",
      "\n",
      "Martin Luerssen and David Powers\n",
      "\n",
      "Clevetar CTO"
     ]
    },
    {
     "cell_type": "markdown",
     "metadata": {},
     "source": [
      "- Making a virtual human\n",
      "- 3D rendering, character animation, machine vision, dialogue management\n",
      "- The untapped power of a smile\n",
      "- Humans are primed to seek out and respond to social cues\n",
      "- Emotions are fundamental to the human experience\n",
      "    - Affective Computing\n",
      "    - Software agents that just make you feel good\n",
      "- Making a difference: anthropormophic agents been shown to \n",
      "    - attract attention... and other stuff\n",
      "- Virtual agents for healthcare (expensive and human intensive)\n",
      "- Many health gains can be made by changing human behaviour\n",
      "- Anna Cares\n",
      "- Home care focus (e.g. elderly people)\n",
      "- Making a useful product\n",
      "- Current version does not have speech recognition\n",
      "- Share your care, Helping Hand\n",
      "- Leverage social network and service provider interests to provide meaningful content\n",
      "- Improve long-term engagement \n",
      "- Architecture and Integration\n",
      "- Next step: commercial scale trial with both coordinators and clients\n",
      "    - Monitor service outcomes, commercial utility, user satisfaction\n",
      "- More functionality / personality / production values\n",
      "- Add some 'smarts'...\n",
      "    - Speech recognition\n",
      "    - Dialogue management"
     ]
    },
    {
     "cell_type": "markdown",
     "metadata": {},
     "source": [
      "## An Empathetic Agent for Adherence to Medical Treatment Advice\n",
      "\n",
      "Deborah Richards"
     ]
    },
    {
     "cell_type": "markdown",
     "metadata": {},
     "source": [
      "- How to improve adherence to treatment advice\n",
      "- There are two types of adherence\n",
      "- Caring communication style\n",
      "- Improving Adherence (e.g. in e-Health)\n",
      "- Relational Agents\n",
      "- Shared goals, shared plans to achievev those goals\n",
      "- Virtual Human Toolkit\n",
      "- Meet Dr Evie (eVirtual agent for Incontience and Enuresis)\n",
      "- https://comp.mq.edu.au/vworlds/DrEvie/caffeine/\n",
      "- Her (movie - guys fall in love with his operating system)\n",
      "- People with low literacy and education skills believe these characters\n",
      "- A virtual tour with Omosa"
     ]
    },
    {
     "cell_type": "markdown",
     "metadata": {},
     "source": [
      "## Formalising Believability and Building Believable Virtual Agents\n",
      "\n",
      "Tomas Trescak, University of Western Sydney, t.trescak@usw.edu.au"
     ]
    },
    {
     "cell_type": "markdown",
     "metadata": {},
     "source": [
      "- Motivation - virtual environments, virtual reality\n",
      "- Embodied, intelligent virtual agents\n",
      "- Mimicking human behaviour = believable\n",
      "- \"Believability\" is very loosely defined\n",
      "- In terms of formalisation the concept of believability resembles similarity with intelligence - hard to define and formalise\n",
      "- Construct formal model of perceived believability\n",
      "- Must be perceived as real in the context of its environment\n",
      "- Classic works of Walt Disney\n",
      "- Believable characters vs agents\n",
      "- Interactivty requires AI\n",
      "- Contemporary AI: engaging life-like systems, reactivity, interactive...\n",
      "- Definiitions of Believable Agents:\n",
      "    - life like, whose actions make sense, who allows you to suspend disbelief\n",
      "    - observing sentient beings\n",
      "    - giving the illusion of being controlled by a human\n",
      "- Believability Features (Loyall et. all 1999)\n",
      "    - Personality\n",
      "    - Emotions\n",
      "    - Self-Motivation\n",
      "    - Change\n",
      "    - Social Relationships\n",
      "    - Consistency of Expression\n",
      "    - Illusion of Life\n",
      "- Emotional state v emotions, role of the environment, verbal behaviour, non-verbal behaviour, appearance\n",
      "- Believability Formalisation (Bogdanovych et al published in ACALCI 2015)\n",
      "- Motivational based goal generation (BDI)\n",
      "- Personality (OCEAN)\n",
      "- Emotions (OCC)\n",
      "- Liveness (several models)\n",
      "    - BDI, dynamic planning, obstance avoidance...\n",
      "- Social relationships, virtual institutions, consistency (norms + VI), change, awareness (environmental annotations + VI)\n",
      "- Case Studies\n",
      "    - Uruk 3000 B.C.\n",
      "    - UWS Campus, Parramatta 1770 A.D. (Pre-contact)"
     ]
    },
    {
     "cell_type": "markdown",
     "metadata": {},
     "source": [
      "## Cultural Change in Virtual Environments\n",
      "\n",
      "Erik Champion"
     ]
    },
    {
     "cell_type": "markdown",
     "metadata": {},
     "source": [
      "- Cultural Agents in VES\n",
      "- Challenge: Develop agents that can pass on information about a past or distant culture...\n",
      "- Cultural Agents\n",
      "- Adobe Atmosphere\n",
      "- Shadows of the Colossus: areas of vulnerability\n",
      "- Cultural agent\n",
      "    - Recognises, adds to or transmits physically embedded and embodied aspects of culture\n",
      "    - Culture is itself heritage-biased towards past\n",
      "- Public VR\n",
      "    - Moved to Unity\n",
      "    - Egyptian Oracle\n",
      "- Special Issue on Serious Games (CFP) due in January www.digra.org\n",
      "- seriousexperience@gmail.com\n",
      "- Entertainment Computing, Elsevier: Special Issue on Entertainment in Serious Games and Entertaining Serious Purposes\n",
      "    - 31 January 2015 (Submission Deadline)\n",
      "- http://www.digra.org/cfrp-special-issue-journal-of-entertainment-computing-on-serious-games/"
     ]
    },
    {
     "cell_type": "markdown",
     "metadata": {},
     "source": [
      "## Generating Games from Film Resources using Smartbody and Emotive Agents\n",
      "\n",
      "Cat Kutay"
     ]
    },
    {
     "cell_type": "markdown",
     "metadata": {},
     "source": [
      "- FAtiMA\n",
      "    - Ana Paiva (Portuguese University)\n",
      "- Motivation\n",
      "    - Living in multi-cultural society\n",
      "    - Sharing technical knowledge across cultures\n",
      "    - Sharing knowledge practics as a way to improve learning techniques\n",
      "- Approach to teaching in games\n",
      "    - Share stories\n",
      "    - Witness scenarios acted out\n",
      "    - Role plas with AI\n",
      "    - Integrate these into games\n",
      "- Sharing stories\n",
      "- SMART Body\n",
      "    - Stacy Marsella\n",
      "    - Institute of Creative Technologies (ICT) \n",
      "- Virtual Human Toolkit\n",
      "- Machinima Storyteller"
     ]
    },
    {
     "cell_type": "markdown",
     "metadata": {},
     "source": [
      "## Narrative AI: The Challenges of Building and Intelligent Storyteller\n",
      "\n",
      "Malcolm Ryan"
     ]
    },
    {
     "cell_type": "markdown",
     "metadata": {},
     "source": [
      "- Computer storytelling\n",
      "- Computer graphics encodes the physical and artistic principles of light, perspective and material in order to makes tools to empower artists\n",
      "- Narrative tools - build similar tools that encode the principles of story-telling... to empower writers to make works hitherto impossible\n",
      "- Fabula, Szujet and Discourse\n",
      "    - Fabula: the sequence of events in the story as the happended in time\n",
      "    - Szujet: The selection and ordering of events for narration\n",
      "    - Discourse: The rendering of events in a medium (writing, film, game)\n",
      "- Focus primarily on fabula generation\n",
      "- Action, character and plot\n",
      "    - Action: the sequence of events must be plausible some fictional world\n",
      "    - Character: the characters should act with believable desires, emotions and intentions\n",
      "    - Plot: The sequence of events should have an overarching dramatic structure\n",
      "- StoryLog\n",
      "    - story generation tool based on AI methods drawn from planning and knowledge representation\n",
      "    - ASP Planning\n",
      "    - GOLOG agent control language\n",
      "    - OCC model of emotion\n",
      "    - BDI model for intelligent agents\n",
      "- GOLOG non-deterministic programs that have multiple paths\n",
      "- BDI in GOLOG\n",
      "- Intention as a first class construct in the world\n",
      "- Belief models (including deception)"
     ]
    }
   ],
   "metadata": {}
  }
 ]
}